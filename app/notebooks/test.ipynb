{
 "cells": [
  {
   "cell_type": "code",
   "execution_count": 26,
   "id": "initial_id",
   "metadata": {
    "collapsed": true
   },
   "outputs": [
    {
     "data": {
      "text/plain": "    if_off  v_diff1    a_min3   a_mean3   a_max3   key_std  v_diff3_bin\n0     -5.0      0.0 -7.312500 -3.351562  0.00000  0.547723            5\n1     -4.0      0.0 -2.742188 -0.914062  0.00000  0.447214            5\n2     -5.0      0.0 -0.648438 -0.216146  0.00000  0.547723            5\n3     -4.0      0.0  0.000000  0.000000  0.00000  0.447214            5\n4     -5.0      0.0 -0.695312 -0.200521  0.09375  0.547723            5\n..     ...      ...       ...       ...      ...       ...          ...\n93    -4.0      0.0 -0.695312 -0.231771  0.00000  0.707107            5\n94    -5.0      0.0 -1.062500 -0.695312  0.00000  0.547723            5\n95    -4.0      0.0 -1.062500 -0.354167  0.00000  0.447214            5\n96    -5.0      0.0 -0.320312 -0.106771  0.00000  0.707107            5\n97    -4.0      0.0  0.000000  0.000000  0.00000  0.447214            5\n\n[98 rows x 7 columns]",
      "text/html": "<div>\n<style scoped>\n    .dataframe tbody tr th:only-of-type {\n        vertical-align: middle;\n    }\n\n    .dataframe tbody tr th {\n        vertical-align: top;\n    }\n\n    .dataframe thead th {\n        text-align: right;\n    }\n</style>\n<table border=\"1\" class=\"dataframe\">\n  <thead>\n    <tr style=\"text-align: right;\">\n      <th></th>\n      <th>if_off</th>\n      <th>v_diff1</th>\n      <th>a_min3</th>\n      <th>a_mean3</th>\n      <th>a_max3</th>\n      <th>key_std</th>\n      <th>v_diff3_bin</th>\n    </tr>\n  </thead>\n  <tbody>\n    <tr>\n      <th>0</th>\n      <td>-5.0</td>\n      <td>0.0</td>\n      <td>-7.312500</td>\n      <td>-3.351562</td>\n      <td>0.00000</td>\n      <td>0.547723</td>\n      <td>5</td>\n    </tr>\n    <tr>\n      <th>1</th>\n      <td>-4.0</td>\n      <td>0.0</td>\n      <td>-2.742188</td>\n      <td>-0.914062</td>\n      <td>0.00000</td>\n      <td>0.447214</td>\n      <td>5</td>\n    </tr>\n    <tr>\n      <th>2</th>\n      <td>-5.0</td>\n      <td>0.0</td>\n      <td>-0.648438</td>\n      <td>-0.216146</td>\n      <td>0.00000</td>\n      <td>0.547723</td>\n      <td>5</td>\n    </tr>\n    <tr>\n      <th>3</th>\n      <td>-4.0</td>\n      <td>0.0</td>\n      <td>0.000000</td>\n      <td>0.000000</td>\n      <td>0.00000</td>\n      <td>0.447214</td>\n      <td>5</td>\n    </tr>\n    <tr>\n      <th>4</th>\n      <td>-5.0</td>\n      <td>0.0</td>\n      <td>-0.695312</td>\n      <td>-0.200521</td>\n      <td>0.09375</td>\n      <td>0.547723</td>\n      <td>5</td>\n    </tr>\n    <tr>\n      <th>...</th>\n      <td>...</td>\n      <td>...</td>\n      <td>...</td>\n      <td>...</td>\n      <td>...</td>\n      <td>...</td>\n      <td>...</td>\n    </tr>\n    <tr>\n      <th>93</th>\n      <td>-4.0</td>\n      <td>0.0</td>\n      <td>-0.695312</td>\n      <td>-0.231771</td>\n      <td>0.00000</td>\n      <td>0.707107</td>\n      <td>5</td>\n    </tr>\n    <tr>\n      <th>94</th>\n      <td>-5.0</td>\n      <td>0.0</td>\n      <td>-1.062500</td>\n      <td>-0.695312</td>\n      <td>0.00000</td>\n      <td>0.547723</td>\n      <td>5</td>\n    </tr>\n    <tr>\n      <th>95</th>\n      <td>-4.0</td>\n      <td>0.0</td>\n      <td>-1.062500</td>\n      <td>-0.354167</td>\n      <td>0.00000</td>\n      <td>0.447214</td>\n      <td>5</td>\n    </tr>\n    <tr>\n      <th>96</th>\n      <td>-5.0</td>\n      <td>0.0</td>\n      <td>-0.320312</td>\n      <td>-0.106771</td>\n      <td>0.00000</td>\n      <td>0.707107</td>\n      <td>5</td>\n    </tr>\n    <tr>\n      <th>97</th>\n      <td>-4.0</td>\n      <td>0.0</td>\n      <td>0.000000</td>\n      <td>0.000000</td>\n      <td>0.00000</td>\n      <td>0.447214</td>\n      <td>5</td>\n    </tr>\n  </tbody>\n</table>\n<p>98 rows × 7 columns</p>\n</div>"
     },
     "execution_count": 26,
     "metadata": {},
     "output_type": "execute_result"
    }
   ],
   "source": [
    "import pandas as pd\n",
    "\n",
    "\n",
    "df=pd.read_csv('file_data_deal2.csv',index_col=False)\n",
    "cols = {'车号':'Num','整车钥匙状态catestd':'key_std',}\n",
    "df=df.rename(columns=cols)\n",
    "f_names = [x for x in df.columns if x not in['Num','CollectTime','Label']]\n",
    "test_data =df[f_names]\n",
    "test_data"
   ]
  },
  {
   "cell_type": "code",
   "outputs": [
    {
     "name": "stderr",
     "output_type": "stream",
     "text": [
      "D:\\pycharm project\\RASMS\\venv\\lib\\site-packages\\sklearn\\base.py:376: InconsistentVersionWarning: Trying to unpickle estimator LabelEncoder from version 1.4.0 when using version 1.4.2. This might lead to breaking code or invalid results. Use at your own risk. For more info please refer to:\n",
      "https://scikit-learn.org/stable/model_persistence.html#security-maintainability-limitations\n",
      "  warnings.warn(\n"
     ]
    },
    {
     "ename": "AttributeError",
     "evalue": "'super' object has no attribute 'get_params'",
     "output_type": "error",
     "traceback": [
      "\u001B[1;31m---------------------------------------------------------------------------\u001B[0m",
      "\u001B[1;31mAttributeError\u001B[0m                            Traceback (most recent call last)",
      "Cell \u001B[1;32mIn[28], line 4\u001B[0m\n\u001B[0;32m      1\u001B[0m \u001B[38;5;28;01mfrom\u001B[39;00m \u001B[38;5;21;01mjoblib\u001B[39;00m \u001B[38;5;28;01mimport\u001B[39;00m load\n\u001B[0;32m      3\u001B[0m model \u001B[38;5;241m=\u001B[39m load(\u001B[38;5;124m'\u001B[39m\u001B[38;5;124mlightgbm_model.joblib\u001B[39m\u001B[38;5;124m'\u001B[39m)\n\u001B[1;32m----> 4\u001B[0m prediction_result \u001B[38;5;241m=\u001B[39m \u001B[43mmodel\u001B[49m\u001B[38;5;241;43m.\u001B[39;49m\u001B[43mpredict\u001B[49m\u001B[43m(\u001B[49m\u001B[43mtest_data\u001B[49m\u001B[43m)\u001B[49m\n",
      "File \u001B[1;32mD:\\pycharm project\\RASMS\\venv\\lib\\site-packages\\lightgbm\\sklearn.py:1223\u001B[0m, in \u001B[0;36mLGBMClassifier.predict\u001B[1;34m(self, X, raw_score, start_iteration, num_iteration, pred_leaf, pred_contrib, validate_features, **kwargs)\u001B[0m\n\u001B[0;32m   1211\u001B[0m \u001B[38;5;28;01mdef\u001B[39;00m \u001B[38;5;21mpredict\u001B[39m(\n\u001B[0;32m   1212\u001B[0m     \u001B[38;5;28mself\u001B[39m,\n\u001B[0;32m   1213\u001B[0m     X: _LGBM_ScikitMatrixLike,\n\u001B[1;32m   (...)\u001B[0m\n\u001B[0;32m   1220\u001B[0m     \u001B[38;5;241m*\u001B[39m\u001B[38;5;241m*\u001B[39mkwargs: Any\n\u001B[0;32m   1221\u001B[0m ):\n\u001B[0;32m   1222\u001B[0m \u001B[38;5;250m    \u001B[39m\u001B[38;5;124;03m\"\"\"Docstring is inherited from the LGBMModel.\"\"\"\u001B[39;00m\n\u001B[1;32m-> 1223\u001B[0m     result \u001B[38;5;241m=\u001B[39m \u001B[38;5;28mself\u001B[39m\u001B[38;5;241m.\u001B[39mpredict_proba(\n\u001B[0;32m   1224\u001B[0m         X\u001B[38;5;241m=\u001B[39mX,\n\u001B[0;32m   1225\u001B[0m         raw_score\u001B[38;5;241m=\u001B[39mraw_score,\n\u001B[0;32m   1226\u001B[0m         start_iteration\u001B[38;5;241m=\u001B[39mstart_iteration,\n\u001B[0;32m   1227\u001B[0m         num_iteration\u001B[38;5;241m=\u001B[39mnum_iteration,\n\u001B[0;32m   1228\u001B[0m         pred_leaf\u001B[38;5;241m=\u001B[39mpred_leaf,\n\u001B[0;32m   1229\u001B[0m         pred_contrib\u001B[38;5;241m=\u001B[39mpred_contrib,\n\u001B[0;32m   1230\u001B[0m         validate_features\u001B[38;5;241m=\u001B[39mvalidate_features,\n\u001B[0;32m   1231\u001B[0m         \u001B[38;5;241m*\u001B[39m\u001B[38;5;241m*\u001B[39mkwargs\n\u001B[0;32m   1232\u001B[0m     )\n\u001B[0;32m   1233\u001B[0m     \u001B[38;5;28;01mif\u001B[39;00m \u001B[38;5;28mcallable\u001B[39m(\u001B[38;5;28mself\u001B[39m\u001B[38;5;241m.\u001B[39m_objective) \u001B[38;5;129;01mor\u001B[39;00m raw_score \u001B[38;5;129;01mor\u001B[39;00m pred_leaf \u001B[38;5;129;01mor\u001B[39;00m pred_contrib:\n\u001B[0;32m   1234\u001B[0m         \u001B[38;5;28;01mreturn\u001B[39;00m result\n",
      "File \u001B[1;32mD:\\pycharm project\\RASMS\\venv\\lib\\site-packages\\lightgbm\\sklearn.py:1253\u001B[0m, in \u001B[0;36mLGBMClassifier.predict_proba\u001B[1;34m(self, X, raw_score, start_iteration, num_iteration, pred_leaf, pred_contrib, validate_features, **kwargs)\u001B[0m\n\u001B[0;32m   1241\u001B[0m \u001B[38;5;28;01mdef\u001B[39;00m \u001B[38;5;21mpredict_proba\u001B[39m(\n\u001B[0;32m   1242\u001B[0m     \u001B[38;5;28mself\u001B[39m,\n\u001B[0;32m   1243\u001B[0m     X: _LGBM_ScikitMatrixLike,\n\u001B[1;32m   (...)\u001B[0m\n\u001B[0;32m   1250\u001B[0m     \u001B[38;5;241m*\u001B[39m\u001B[38;5;241m*\u001B[39mkwargs: Any\n\u001B[0;32m   1251\u001B[0m ):\n\u001B[0;32m   1252\u001B[0m \u001B[38;5;250m    \u001B[39m\u001B[38;5;124;03m\"\"\"Docstring is set after definition, using a template.\"\"\"\u001B[39;00m\n\u001B[1;32m-> 1253\u001B[0m     result \u001B[38;5;241m=\u001B[39m \u001B[38;5;28msuper\u001B[39m()\u001B[38;5;241m.\u001B[39mpredict(\n\u001B[0;32m   1254\u001B[0m         X\u001B[38;5;241m=\u001B[39mX,\n\u001B[0;32m   1255\u001B[0m         raw_score\u001B[38;5;241m=\u001B[39mraw_score,\n\u001B[0;32m   1256\u001B[0m         start_iteration\u001B[38;5;241m=\u001B[39mstart_iteration,\n\u001B[0;32m   1257\u001B[0m         num_iteration\u001B[38;5;241m=\u001B[39mnum_iteration,\n\u001B[0;32m   1258\u001B[0m         pred_leaf\u001B[38;5;241m=\u001B[39mpred_leaf,\n\u001B[0;32m   1259\u001B[0m         pred_contrib\u001B[38;5;241m=\u001B[39mpred_contrib,\n\u001B[0;32m   1260\u001B[0m         validate_features\u001B[38;5;241m=\u001B[39mvalidate_features,\n\u001B[0;32m   1261\u001B[0m         \u001B[38;5;241m*\u001B[39m\u001B[38;5;241m*\u001B[39mkwargs\n\u001B[0;32m   1262\u001B[0m     )\n\u001B[0;32m   1263\u001B[0m     \u001B[38;5;28;01mif\u001B[39;00m \u001B[38;5;28mcallable\u001B[39m(\u001B[38;5;28mself\u001B[39m\u001B[38;5;241m.\u001B[39m_objective) \u001B[38;5;129;01mand\u001B[39;00m \u001B[38;5;129;01mnot\u001B[39;00m (raw_score \u001B[38;5;129;01mor\u001B[39;00m pred_leaf \u001B[38;5;129;01mor\u001B[39;00m pred_contrib):\n\u001B[0;32m   1264\u001B[0m         _log_warning(\u001B[38;5;124m\"\u001B[39m\u001B[38;5;124mCannot compute class probabilities or labels \u001B[39m\u001B[38;5;124m\"\u001B[39m\n\u001B[0;32m   1265\u001B[0m                      \u001B[38;5;124m\"\u001B[39m\u001B[38;5;124mdue to the usage of customized objective function.\u001B[39m\u001B[38;5;130;01m\\n\u001B[39;00m\u001B[38;5;124m\"\u001B[39m\n\u001B[0;32m   1266\u001B[0m                      \u001B[38;5;124m\"\u001B[39m\u001B[38;5;124mReturning raw scores instead.\u001B[39m\u001B[38;5;124m\"\u001B[39m)\n",
      "File \u001B[1;32mD:\\pycharm project\\RASMS\\venv\\lib\\site-packages\\lightgbm\\sklearn.py:942\u001B[0m, in \u001B[0;36mLGBMModel.predict\u001B[1;34m(self, X, raw_score, start_iteration, num_iteration, pred_leaf, pred_contrib, validate_features, **kwargs)\u001B[0m\n\u001B[0;32m    937\u001B[0m     \u001B[38;5;28;01mraise\u001B[39;00m \u001B[38;5;167;01mValueError\u001B[39;00m(\u001B[38;5;124m\"\u001B[39m\u001B[38;5;124mNumber of features of the model must \u001B[39m\u001B[38;5;124m\"\u001B[39m\n\u001B[0;32m    938\u001B[0m                      \u001B[38;5;124mf\u001B[39m\u001B[38;5;124m\"\u001B[39m\u001B[38;5;124mmatch the input. Model n_features_ is \u001B[39m\u001B[38;5;132;01m{\u001B[39;00m\u001B[38;5;28mself\u001B[39m\u001B[38;5;241m.\u001B[39m_n_features\u001B[38;5;132;01m}\u001B[39;00m\u001B[38;5;124m and \u001B[39m\u001B[38;5;124m\"\u001B[39m\n\u001B[0;32m    939\u001B[0m                      \u001B[38;5;124mf\u001B[39m\u001B[38;5;124m\"\u001B[39m\u001B[38;5;124minput n_features is \u001B[39m\u001B[38;5;132;01m{\u001B[39;00mn_features\u001B[38;5;132;01m}\u001B[39;00m\u001B[38;5;124m\"\u001B[39m)\n\u001B[0;32m    940\u001B[0m \u001B[38;5;66;03m# retrive original params that possibly can be used in both training and prediction\u001B[39;00m\n\u001B[0;32m    941\u001B[0m \u001B[38;5;66;03m# and then overwrite them (considering aliases) with params that were passed directly in prediction\u001B[39;00m\n\u001B[1;32m--> 942\u001B[0m predict_params \u001B[38;5;241m=\u001B[39m \u001B[38;5;28;43mself\u001B[39;49m\u001B[38;5;241;43m.\u001B[39;49m\u001B[43m_process_params\u001B[49m\u001B[43m(\u001B[49m\u001B[43mstage\u001B[49m\u001B[38;5;241;43m=\u001B[39;49m\u001B[38;5;124;43m\"\u001B[39;49m\u001B[38;5;124;43mpredict\u001B[39;49m\u001B[38;5;124;43m\"\u001B[39;49m\u001B[43m)\u001B[49m\n\u001B[0;32m    943\u001B[0m \u001B[38;5;28;01mfor\u001B[39;00m alias \u001B[38;5;129;01min\u001B[39;00m _ConfigAliases\u001B[38;5;241m.\u001B[39mget_by_alias(\n\u001B[0;32m    944\u001B[0m     \u001B[38;5;124m\"\u001B[39m\u001B[38;5;124mdata\u001B[39m\u001B[38;5;124m\"\u001B[39m,\n\u001B[0;32m    945\u001B[0m     \u001B[38;5;124m\"\u001B[39m\u001B[38;5;124mX\u001B[39m\u001B[38;5;124m\"\u001B[39m,\n\u001B[1;32m   (...)\u001B[0m\n\u001B[0;32m    951\u001B[0m     \u001B[38;5;241m*\u001B[39mkwargs\u001B[38;5;241m.\u001B[39mkeys()\n\u001B[0;32m    952\u001B[0m ):\n\u001B[0;32m    953\u001B[0m     predict_params\u001B[38;5;241m.\u001B[39mpop(alias, \u001B[38;5;28;01mNone\u001B[39;00m)\n",
      "File \u001B[1;32mD:\\pycharm project\\RASMS\\venv\\lib\\site-packages\\lightgbm\\sklearn.py:677\u001B[0m, in \u001B[0;36mLGBMModel._process_params\u001B[1;34m(self, stage)\u001B[0m\n\u001B[0;32m    664\u001B[0m \u001B[38;5;250m\u001B[39m\u001B[38;5;124;03m\"\"\"Process the parameters of this estimator based on its type, parameter aliases, etc.\u001B[39;00m\n\u001B[0;32m    665\u001B[0m \n\u001B[0;32m    666\u001B[0m \u001B[38;5;124;03mParameters\u001B[39;00m\n\u001B[1;32m   (...)\u001B[0m\n\u001B[0;32m    674\u001B[0m \u001B[38;5;124;03m    Processed parameter names mapped to their values.\u001B[39;00m\n\u001B[0;32m    675\u001B[0m \u001B[38;5;124;03m\"\"\"\u001B[39;00m\n\u001B[0;32m    676\u001B[0m \u001B[38;5;28;01massert\u001B[39;00m stage \u001B[38;5;129;01min\u001B[39;00m {\u001B[38;5;124m\"\u001B[39m\u001B[38;5;124mfit\u001B[39m\u001B[38;5;124m\"\u001B[39m, \u001B[38;5;124m\"\u001B[39m\u001B[38;5;124mpredict\u001B[39m\u001B[38;5;124m\"\u001B[39m}\n\u001B[1;32m--> 677\u001B[0m params \u001B[38;5;241m=\u001B[39m \u001B[38;5;28;43mself\u001B[39;49m\u001B[38;5;241;43m.\u001B[39;49m\u001B[43mget_params\u001B[49m\u001B[43m(\u001B[49m\u001B[43m)\u001B[49m\n\u001B[0;32m    679\u001B[0m params\u001B[38;5;241m.\u001B[39mpop(\u001B[38;5;124m'\u001B[39m\u001B[38;5;124mobjective\u001B[39m\u001B[38;5;124m'\u001B[39m, \u001B[38;5;28;01mNone\u001B[39;00m)\n\u001B[0;32m    680\u001B[0m \u001B[38;5;28;01mfor\u001B[39;00m alias \u001B[38;5;129;01min\u001B[39;00m _ConfigAliases\u001B[38;5;241m.\u001B[39mget(\u001B[38;5;124m'\u001B[39m\u001B[38;5;124mobjective\u001B[39m\u001B[38;5;124m'\u001B[39m):\n",
      "File \u001B[1;32mD:\\pycharm project\\RASMS\\venv\\lib\\site-packages\\lightgbm\\sklearn.py:639\u001B[0m, in \u001B[0;36mLGBMModel.get_params\u001B[1;34m(self, deep)\u001B[0m\n\u001B[0;32m    625\u001B[0m \u001B[38;5;28;01mdef\u001B[39;00m \u001B[38;5;21mget_params\u001B[39m(\u001B[38;5;28mself\u001B[39m, deep: \u001B[38;5;28mbool\u001B[39m \u001B[38;5;241m=\u001B[39m \u001B[38;5;28;01mTrue\u001B[39;00m) \u001B[38;5;241m-\u001B[39m\u001B[38;5;241m>\u001B[39m Dict[\u001B[38;5;28mstr\u001B[39m, Any]:\n\u001B[0;32m    626\u001B[0m \u001B[38;5;250m    \u001B[39m\u001B[38;5;124;03m\"\"\"Get parameters for this estimator.\u001B[39;00m\n\u001B[0;32m    627\u001B[0m \n\u001B[0;32m    628\u001B[0m \u001B[38;5;124;03m    Parameters\u001B[39;00m\n\u001B[1;32m   (...)\u001B[0m\n\u001B[0;32m    637\u001B[0m \u001B[38;5;124;03m        Parameter names mapped to their values.\u001B[39;00m\n\u001B[0;32m    638\u001B[0m \u001B[38;5;124;03m    \"\"\"\u001B[39;00m\n\u001B[1;32m--> 639\u001B[0m     params \u001B[38;5;241m=\u001B[39m \u001B[38;5;28;43msuper\u001B[39;49m\u001B[43m(\u001B[49m\u001B[43m)\u001B[49m\u001B[38;5;241;43m.\u001B[39;49m\u001B[43mget_params\u001B[49m(deep\u001B[38;5;241m=\u001B[39mdeep)\n\u001B[0;32m    640\u001B[0m     params\u001B[38;5;241m.\u001B[39mupdate(\u001B[38;5;28mself\u001B[39m\u001B[38;5;241m.\u001B[39m_other_params)\n\u001B[0;32m    641\u001B[0m     \u001B[38;5;28;01mreturn\u001B[39;00m params\n",
      "\u001B[1;31mAttributeError\u001B[0m: 'super' object has no attribute 'get_params'"
     ]
    }
   ],
   "source": [
    "from joblib import load\n",
    "\n",
    "model = load('lightgbm_model.joblib')\n",
    "prediction_result = model.predict(test_data)"
   ],
   "metadata": {
    "collapsed": false,
    "ExecuteTime": {
     "end_time": "2024-02-27T21:33:58.482028400Z",
     "start_time": "2024-02-27T21:33:58.465029300Z"
    }
   },
   "id": "35b828d783e55973",
   "execution_count": 28
  },
  {
   "cell_type": "code",
   "outputs": [
    {
     "name": "stdout",
     "output_type": "stream",
     "text": [
      "Collecting scikit-learn"
     ]
    },
    {
     "name": "stderr",
     "output_type": "stream",
     "text": [
      "WARNING: Retrying (Retry(total=4, connect=None, read=None, redirect=None, status=None)) after connection broken by 'ProxyError('Cannot connect to proxy.', ConnectionResetError(10054, '远程主机强迫关闭了一个现有的连接。', None, 10054, None))': /simple/scikit-learn/\n"
     ]
    },
    {
     "name": "stdout",
     "output_type": "stream",
     "text": [
      "\n",
      "  Downloading scikit_learn-1.4.2-cp39-cp39-win_amd64.whl.metadata (11 kB)\n",
      "Requirement already satisfied: numpy>=1.19.5 in d:\\pycharm project\\rasms\\venv\\lib\\site-packages (from scikit-learn) (1.26.4)\n",
      "Requirement already satisfied: scipy>=1.6.0 in d:\\pycharm project\\rasms\\venv\\lib\\site-packages (from scikit-learn) (1.13.0)\n",
      "Requirement already satisfied: joblib>=1.2.0 in d:\\pycharm project\\rasms\\venv\\lib\\site-packages (from scikit-learn) (1.4.0)\n",
      "Collecting threadpoolctl>=2.0.0 (from scikit-learn)\n",
      "  Downloading threadpoolctl-3.4.0-py3-none-any.whl.metadata (13 kB)\n",
      "Downloading scikit_learn-1.4.2-cp39-cp39-win_amd64.whl (10.6 MB)\n",
      "   ---------------------------------------- 0.0/10.6 MB ? eta -:--:--\n",
      "   ---------------------------------------- 0.0/10.6 MB ? eta -:--:--\n",
      "   ---------------------------------------- 0.0/10.6 MB 660.6 kB/s eta 0:00:17\n",
      "   ---------------------------------------- 0.1/10.6 MB 544.7 kB/s eta 0:00:20\n",
      "   ---------------------------------------- 0.1/10.6 MB 819.2 kB/s eta 0:00:13\n",
      "   ---------------------------------------- 0.1/10.6 MB 819.2 kB/s eta 0:00:13\n",
      "   ---------------------------------------- 0.1/10.6 MB 819.2 kB/s eta 0:00:13\n",
      "   ---------------------------------------- 0.1/10.6 MB 819.2 kB/s eta 0:00:13\n",
      "   ---------------------------------------- 0.1/10.6 MB 343.4 kB/s eta 0:00:31\n",
      "    --------------------------------------- 0.3/10.6 MB 655.4 kB/s eta 0:00:16\n",
      "   - -------------------------------------- 0.4/10.6 MB 882.8 kB/s eta 0:00:12\n",
      "   -- ------------------------------------- 0.6/10.6 MB 1.3 MB/s eta 0:00:08\n",
      "   --- ------------------------------------ 0.9/10.6 MB 1.7 MB/s eta 0:00:06\n",
      "   ----- ---------------------------------- 1.4/10.6 MB 2.4 MB/s eta 0:00:04\n",
      "   ----- ---------------------------------- 1.4/10.6 MB 2.4 MB/s eta 0:00:04\n",
      "   ----- ---------------------------------- 1.4/10.6 MB 2.4 MB/s eta 0:00:04\n",
      "   ------ --------------------------------- 1.8/10.6 MB 2.6 MB/s eta 0:00:04\n",
      "   ------ --------------------------------- 1.8/10.6 MB 2.6 MB/s eta 0:00:04\n",
      "   ------- -------------------------------- 2.0/10.6 MB 2.6 MB/s eta 0:00:04\n",
      "   ------- -------------------------------- 2.0/10.6 MB 2.6 MB/s eta 0:00:04\n",
      "   ------- -------------------------------- 2.0/10.6 MB 2.6 MB/s eta 0:00:04\n",
      "   -------- ------------------------------- 2.1/10.6 MB 2.3 MB/s eta 0:00:04\n",
      "   ------------- -------------------------- 3.6/10.6 MB 3.7 MB/s eta 0:00:02\n",
      "   --------------- ------------------------ 4.2/10.6 MB 4.1 MB/s eta 0:00:02\n",
      "   ------------------- -------------------- 5.1/10.6 MB 4.7 MB/s eta 0:00:02\n",
      "   ------------------- -------------------- 5.1/10.6 MB 4.7 MB/s eta 0:00:02\n",
      "   ---------------------- ----------------- 6.0/10.6 MB 5.1 MB/s eta 0:00:01\n",
      "   ---------------------- ----------------- 6.1/10.6 MB 5.1 MB/s eta 0:00:01\n",
      "   ------------------------ --------------- 6.5/10.6 MB 5.2 MB/s eta 0:00:01\n",
      "   ------------------------- -------------- 6.9/10.6 MB 5.2 MB/s eta 0:00:01\n",
      "   -------------------------- ------------- 7.2/10.6 MB 5.3 MB/s eta 0:00:01\n",
      "   --------------------------- ------------ 7.4/10.6 MB 5.3 MB/s eta 0:00:01\n",
      "   ---------------------------- ----------- 7.7/10.6 MB 5.3 MB/s eta 0:00:01\n",
      "   ------------------------------ --------- 8.0/10.6 MB 5.3 MB/s eta 0:00:01\n",
      "   ------------------------------- -------- 8.3/10.6 MB 5.3 MB/s eta 0:00:01\n",
      "   -------------------------------- ------- 8.6/10.6 MB 5.4 MB/s eta 0:00:01\n",
      "   --------------------------------- ------ 8.9/10.6 MB 5.4 MB/s eta 0:00:01\n",
      "   ---------------------------------- ----- 9.2/10.6 MB 5.5 MB/s eta 0:00:01\n",
      "   ----------------------------------- ---- 9.4/10.6 MB 5.4 MB/s eta 0:00:01\n",
      "   ------------------------------------ --- 9.8/10.6 MB 5.5 MB/s eta 0:00:01\n",
      "   ------------------------------------- -- 10.1/10.6 MB 5.5 MB/s eta 0:00:01\n",
      "   -------------------------------------- - 10.2/10.6 MB 5.5 MB/s eta 0:00:01\n",
      "   -------------------------------------- - 10.2/10.6 MB 5.5 MB/s eta 0:00:01\n",
      "   ---------------------------------------  10.4/10.6 MB 6.3 MB/s eta 0:00:01\n",
      "   ---------------------------------------  10.6/10.6 MB 6.5 MB/s eta 0:00:01\n",
      "   ---------------------------------------- 10.6/10.6 MB 6.5 MB/s eta 0:00:00\n",
      "Downloading threadpoolctl-3.4.0-py3-none-any.whl (17 kB)\n",
      "Installing collected packages: threadpoolctl, scikit-learn\n",
      "Successfully installed scikit-learn-1.4.2 threadpoolctl-3.4.0\n"
     ]
    }
   ],
   "source": [
    "!pip install scikit-learn"
   ],
   "metadata": {
    "collapsed": false
   },
   "id": "97dd225bf59c44d6",
   "execution_count": 17
  },
  {
   "cell_type": "code",
   "execution_count": null,
   "outputs": [],
   "source": [],
   "metadata": {
    "collapsed": false
   }
  }
 ],
 "metadata": {
  "kernelspec": {
   "display_name": "Python 3",
   "language": "python",
   "name": "python3"
  },
  "language_info": {
   "codemirror_mode": {
    "name": "ipython",
    "version": 2
   },
   "file_extension": ".py",
   "mimetype": "text/x-python",
   "name": "python",
   "nbconvert_exporter": "python",
   "pygments_lexer": "ipython2",
   "version": "2.7.6"
  }
 },
 "nbformat": 4,
 "nbformat_minor": 5
}
